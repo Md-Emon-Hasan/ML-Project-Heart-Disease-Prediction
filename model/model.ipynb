{
 "cells": [
  {
   "cell_type": "markdown",
   "metadata": {},
   "source": [
    "# Fraudulent Activities \n",
    "\n",
    "### OBJECTIVES\n",
    "\n",
    "E-commerce websites are more and more used, some e-shops have to handle thousands or even millions of transactions a day. This opens room for potential fraudulent activities like money laundering or, use of stolen credit card etc. \n",
    "\n",
    "This Notebook aim's at computing the probability of a transaction being fraudulent thanks to Machine Learning.\n",
    " \n",
    "Datasets :\n",
    "```python\n",
    "Fraud_Data.csv\n",
    "IpAddress_to_Country.csv\n",
    "```"
   ]
  },
  {
   "cell_type": "markdown",
   "metadata": {},
   "source": [
    "## Import Libraries"
   ]
  },
  {
   "cell_type": "code",
   "execution_count": 57,
   "metadata": {},
   "outputs": [],
   "source": [
    "import pandas as pd\n",
    "import numpy as np\n",
    "import matplotlib.pyplot as plt\n",
    "import seaborn as sns\n",
    "\n",
    "from datetime import timedelta\n",
    "from datetime import datetime\n",
    "from datetime import tzinfo\n",
    "from datetime import timezone\n",
    "\n",
    "from sklearn.utils import class_weight\n",
    "\n",
    "from sklearn.preprocessing import KBinsDiscretizer\n",
    "from sklearn.preprocessing import OneHotEncoder\n",
    "from sklearn.preprocessing import StandardScaler\n",
    "\n",
    "from sklearn.model_selection import GridSearchCV\n",
    "from sklearn.model_selection import RepeatedStratifiedKFold\n",
    "from sklearn.model_selection import cross_val_score\n",
    "from sklearn.model_selection import train_test_split\n",
    "\n",
    "from sklearn.ensemble import  RandomForestClassifier\n",
    "from sklearn.tree import DecisionTreeClassifier\n",
    "from sklearn.linear_model import LogisticRegression\n",
    "from sklearn.naive_bayes import BernoulliNB\n",
    "\n",
    "from sklearn.datasets import make_classification\n",
    "from sklearn import metrics\n",
    "from sklearn.metrics import f1_score\n",
    "\n",
    "from sklearn.pipeline import Pipeline\n",
    "from sklearn.impute import SimpleImputer\n",
    "from sklearn.compose import ColumnTransformer\n",
    "\n",
    "from sklearn.metrics import r2_score\n",
    "from sklearn.metrics import mean_absolute_error"
   ]
  },
  {
   "cell_type": "code",
   "execution_count": 58,
   "metadata": {},
   "outputs": [],
   "source": [
    "fraud_data = pd.read_csv('../data/Fraud_Data.csv')\n",
    "ip_data = pd.read_csv('../data/IpAddress_to_Country.csv')"
   ]
  },
  {
   "cell_type": "markdown",
   "metadata": {},
   "source": [
    "## Exploratory Analysis"
   ]
  },
  {
   "cell_type": "code",
   "execution_count": null,
   "metadata": {},
   "outputs": [],
   "source": [
    "fraud_data.head(3)"
   ]
  },
  {
   "cell_type": "markdown",
   "metadata": {},
   "source": [
    "the class column tells us if the transaction if fraudulent '1' or regular '0'"
   ]
  },
  {
   "cell_type": "code",
   "execution_count": null,
   "metadata": {},
   "outputs": [],
   "source": [
    "fraud_data.info()"
   ]
  },
  {
   "cell_type": "markdown",
   "metadata": {},
   "source": [
    "As we can see there's no missing data"
   ]
  },
  {
   "cell_type": "code",
   "execution_count": null,
   "metadata": {},
   "outputs": [],
   "source": [
    "fraud_data.describe()"
   ]
  },
  {
   "cell_type": "markdown",
   "metadata": {},
   "source": [
    "## Transform Ip to Country"
   ]
  },
  {
   "cell_type": "markdown",
   "metadata": {},
   "source": [
    "The Ip Adress is not usefull as is, nevertheless we can fetch the countries where the ip come from thanks to the data in \n",
    "```python\n",
    "IpAddress_to_Country.csv\n",
    "```\n",
    "Let's write a function to convert Ips into countries"
   ]
  },
  {
   "cell_type": "code",
   "execution_count": null,
   "metadata": {},
   "outputs": [],
   "source": [
    "ip_data.head(3)"
   ]
  },
  {
   "cell_type": "code",
   "execution_count": 63,
   "metadata": {},
   "outputs": [],
   "source": [
    "def transform_ip(arg) :\n",
    "    try :\n",
    "        return ip_data.country[(ip_data.lower_bound_ip_address < arg) & \n",
    "        (ip_data.upper_bound_ip_address > arg)].iloc[0]\n",
    "        \n",
    "    except IndexError :\n",
    "        return \"Unknown Country\""
   ]
  },
  {
   "cell_type": "code",
   "execution_count": 64,
   "metadata": {},
   "outputs": [],
   "source": [
    "fraud_data['country_name'] = fraud_data['ip_address'].apply(transform_ip)"
   ]
  },
  {
   "cell_type": "code",
   "execution_count": 65,
   "metadata": {},
   "outputs": [],
   "source": [
    "fraud_data.to_csv('../data/fraud_data_de.csv', index = False)"
   ]
  },
  {
   "cell_type": "code",
   "execution_count": 66,
   "metadata": {},
   "outputs": [],
   "source": [
    "fraud_data = pd.read_csv('../data/fraud_data_de.csv')"
   ]
  },
  {
   "cell_type": "code",
   "execution_count": null,
   "metadata": {},
   "outputs": [],
   "source": [
    "fraud_data.head(2)"
   ]
  },
  {
   "cell_type": "markdown",
   "metadata": {},
   "source": [
    "## Date time"
   ]
  },
  {
   "cell_type": "code",
   "execution_count": 68,
   "metadata": {},
   "outputs": [],
   "source": [
    "# We'll need to convert *signup_time* and *purchase_time* columns in datetime format\n",
    "fraud_data.loc[:, 'signup_time'] =  pd.to_datetime(fraud_data.loc[:, 'signup_time'], format='%Y-%m-%d %H:%M:%S')\n",
    "fraud_data.loc[:, 'purchase_time'] =  pd.to_datetime(fraud_data.loc[:, 'purchase_time'], format='%Y-%m-%d %H:%M:%S')"
   ]
  },
  {
   "cell_type": "code",
   "execution_count": 69,
   "metadata": {},
   "outputs": [],
   "source": [
    "sns.set(style=\"ticks\", palette=\"pastel\")"
   ]
  },
  {
   "cell_type": "markdown",
   "metadata": {},
   "source": [
    "## Data Viz"
   ]
  },
  {
   "cell_type": "code",
   "execution_count": null,
   "metadata": {},
   "outputs": [],
   "source": [
    "## fraud rate\n",
    "plt.pie(fraud_data['class'].value_counts(), labels = ['not_fraud', 'fraud'], autopct='%1.1f%%')\n",
    "plt.title(\"Total Fraud Rate\")\n",
    "plt.show()"
   ]
  },
  {
   "cell_type": "code",
   "execution_count": null,
   "metadata": {},
   "outputs": [],
   "source": [
    "#  Purchase Value\n",
    "purchase_value_discretized = pd.qcut(fraud_data['purchase_value'], 3, ['low','mid','high'])\n",
    "sns.barplot( x  = purchase_value_discretized, y = fraud_data['class'], palette='viridis')\n",
    "plt.title(\"Percentage of Fraud per Purchase Value\")\n",
    "plt.show()"
   ]
  },
  {
   "cell_type": "code",
   "execution_count": null,
   "metadata": {},
   "outputs": [],
   "source": [
    "# source\n",
    "sns.barplot(data = fraud_data, x  = 'source' , y = 'class', palette='inferno')\n",
    "plt.title(\"Percentage of Fraud per source\")\n",
    "plt.show()"
   ]
  },
  {
   "cell_type": "code",
   "execution_count": null,
   "metadata": {},
   "outputs": [],
   "source": [
    "# browser\n",
    "sns.barplot(data = fraud_data, x  = 'browser' , y = 'class', palette='magma')\n",
    "plt.title(\"Percentage of Fraud per browser\")\n",
    "plt.show()"
   ]
  },
  {
   "cell_type": "code",
   "execution_count": null,
   "metadata": {},
   "outputs": [],
   "source": [
    "#  age\n",
    "age_discretized = pd.qcut(fraud_data['age'], 4, ['low','mid-low', 'mid-high','high'])\n",
    "sns.barplot( x  = age_discretized, y = fraud_data['class'], palette='plasma')\n",
    "plt.title(\"Percentage of Fraud per age\")\n",
    "plt.show()"
   ]
  },
  {
   "cell_type": "markdown",
   "metadata": {},
   "source": [
    "## Feature Engineering"
   ]
  },
  {
   "cell_type": "code",
   "execution_count": null,
   "metadata": {},
   "outputs": [],
   "source": [
    "fraud_data['country_name'].nunique()"
   ]
  },
  {
   "cell_type": "code",
   "execution_count": null,
   "metadata": {},
   "outputs": [],
   "source": [
    "fraud_data['country_name'].value_counts()"
   ]
  },
  {
   "cell_type": "code",
   "execution_count": null,
   "metadata": {},
   "outputs": [],
   "source": [
    "fraud_data['country_name'].unique()"
   ]
  },
  {
   "cell_type": "code",
   "execution_count": null,
   "metadata": {},
   "outputs": [],
   "source": [
    "country_fraud = fraud_data.groupby('country_name')['class'].agg({'mean','count'}).sort_values(by='mean', ascending = False)\n",
    "country_fraud"
   ]
  },
  {
   "cell_type": "code",
   "execution_count": null,
   "metadata": {},
   "outputs": [],
   "source": [
    "highest_20_countries = country_fraud.index[:20]\n",
    "data_countries = fraud_data[fraud_data['country_name'].isin(highest_20_countries)]\n",
    "\n",
    "fig, ax = plt.subplots(figsize = (10,5))\n",
    "sns.barplot(data = data_countries, x = 'country_name', y = 'class', ax = ax, palette='rocket')\n",
    "ax.xaxis.set_tick_params(rotation=-60)"
   ]
  },
  {
   "cell_type": "code",
   "execution_count": 80,
   "metadata": {},
   "outputs": [],
   "source": [
    "# sns.catplot(fraud_data['device_id'])\n",
    "#sns.histplot(data = fraud_data['ip_address'])"
   ]
  },
  {
   "cell_type": "code",
   "execution_count": null,
   "metadata": {},
   "outputs": [],
   "source": [
    "#device\n",
    "df_device = fraud_data.groupby('device_id').agg({'device_id': 'count','class': np.mean})\n",
    "df_device.columns = ['device_id_count', 'fraud_percentage']\n",
    "df_device = df_device.sort_values(by = 'device_id_count', ascending = False)\n",
    "df_device.head(15)"
   ]
  },
  {
   "cell_type": "markdown",
   "metadata": {},
   "source": [
    "It seems that the more a device_id makes purchases the more these purchases are likely to be fraudulents\n",
    "We suspect that these fraudulent purchases are made in a short window of time, probably by bots"
   ]
  },
  {
   "cell_type": "code",
   "execution_count": null,
   "metadata": {},
   "outputs": [],
   "source": [
    "fraud_data.loc[fraud_data['device_id'] == 'NGQCKIADMZORL',:].head(8)"
   ]
  },
  {
   "cell_type": "markdown",
   "metadata": {},
   "source": [
    "for the device NGQCKIADMZORL we can see a purchase made almost every second "
   ]
  },
  {
   "cell_type": "code",
   "execution_count": 83,
   "metadata": {},
   "outputs": [],
   "source": [
    "device_count = fraud_data['device_id'].value_counts()\n",
    "fraud_data['n_device_occur'] = fraud_data['device_id'].apply(lambda x : device_count[x] )"
   ]
  },
  {
   "cell_type": "code",
   "execution_count": null,
   "metadata": {},
   "outputs": [],
   "source": [
    "total_amount_perIP = fraud_data.groupby('ip_address')['purchase_value'].sum()\n",
    "fraud_data['amount_purchase_per_ip'] = fraud_data['ip_address'].apply(lambda x: total_amount_perIP[x])\n",
    "fraud_data.head(5)"
   ]
  },
  {
   "cell_type": "code",
   "execution_count": 85,
   "metadata": {},
   "outputs": [],
   "source": [
    "data = fraud_data.copy()\n",
    "to_remove = ['ip_address', 'device_id', 'user_id', 'purchase_value']\n",
    "data = data[[c for c in data.columns if c not in to_remove  ]]"
   ]
  },
  {
   "cell_type": "code",
   "execution_count": null,
   "metadata": {},
   "outputs": [],
   "source": [
    "data.head(5)"
   ]
  },
  {
   "cell_type": "code",
   "execution_count": 87,
   "metadata": {},
   "outputs": [],
   "source": [
    "col_names = ['purchase_year', 'purchase_month', 'purchase_day', 'purchase_day_name' 'purchase_hour', 'purchase_min', 'purchase_sec']"
   ]
  },
  {
   "cell_type": "code",
   "execution_count": 88,
   "metadata": {},
   "outputs": [],
   "source": [
    "# Convert 'signup_time' to datetime format\n",
    "data['signup_time'] = pd.to_datetime(data['signup_time'], errors='coerce')\n",
    "\n",
    "# Now you can access .dt attributes\n",
    "data['signup_month'] = data['signup_time'].dt.month\n",
    "data['signup_day'] = data['signup_time'].dt.day\n",
    "data['signup_day_name'] = data['signup_time'].dt.day_name()"
   ]
  },
  {
   "cell_type": "code",
   "execution_count": 89,
   "metadata": {},
   "outputs": [],
   "source": [
    "# Convert 'purchase_time' to datetime format\n",
    "data['purchase_time'] = pd.to_datetime(data['purchase_time'], errors='coerce')\n",
    "\n",
    "# Now you can access .dt attributes\n",
    "data['purchase_month'] = data['purchase_time'].dt.month\n",
    "data['purchase_day'] = data['purchase_time'].dt.day\n",
    "data['purchase_day_name'] = data['purchase_time'].dt.day_name()"
   ]
  },
  {
   "cell_type": "code",
   "execution_count": 90,
   "metadata": {},
   "outputs": [],
   "source": [
    "\n",
    "seconds_in_day = 24 * 60 * 60\n",
    "to_remove = ['signup_time', 'purchase_time']\n",
    "\n",
    "data['time_to_purchase'] = data['purchase_time'] - data['signup_time']\n",
    "\n",
    "data['time_to_purchase'] = data['time_to_purchase'].dt.days * seconds_in_day + data['time_to_purchase'].dt.seconds\n",
    "\n",
    "data['time_to_purchase'] = pd.qcut(data['time_to_purchase'], 10, labels = False, duplicates = 'drop')\n",
    "\n",
    "data = data[[c for c in data.columns if c not in to_remove  ]] "
   ]
  },
  {
   "cell_type": "code",
   "execution_count": null,
   "metadata": {},
   "outputs": [],
   "source": [
    "display(data.head(5))"
   ]
  },
  {
   "cell_type": "markdown",
   "metadata": {},
   "source": [
    "Now it might be interesting to compute the amount of purchase over the time to purchase"
   ]
  },
  {
   "cell_type": "code",
   "execution_count": 92,
   "metadata": {},
   "outputs": [],
   "source": [
    "data['purchase_over_time'] = 1000* data['amount_purchase_per_ip'] / data['time_to_purchase']"
   ]
  },
  {
   "cell_type": "code",
   "execution_count": null,
   "metadata": {},
   "outputs": [],
   "source": [
    "data.head(10)"
   ]
  },
  {
   "cell_type": "markdown",
   "metadata": {},
   "source": [
    "## Viz Engineered Features"
   ]
  },
  {
   "cell_type": "code",
   "execution_count": null,
   "metadata": {},
   "outputs": [],
   "source": [
    "to_viz = ['amount_purchase_per_ip', 'time_to_purchase',\t'signup_month',\t'signup_day', 'signup_day_name', 'purchase_month', 'purchase_day',\t'purchase_day_name']\n",
    "\n",
    "for c in to_viz:\n",
    "    plt.figure()\n",
    "    sns.histplot(data = data, x = c , hue='class')\n",
    "    plt.plot()"
   ]
  },
  {
   "cell_type": "markdown",
   "metadata": {},
   "source": [
    "## Preprocessing"
   ]
  },
  {
   "cell_type": "code",
   "execution_count": null,
   "metadata": {},
   "outputs": [],
   "source": [
    "data"
   ]
  },
  {
   "cell_type": "code",
   "execution_count": 111,
   "metadata": {},
   "outputs": [],
   "source": [
    "# Drop columns in place\n",
    "data.drop(columns=['time_to_purchase', 'amount_purchase_per_ip'], inplace=True)"
   ]
  },
  {
   "cell_type": "code",
   "execution_count": null,
   "metadata": {},
   "outputs": [],
   "source": [
    "data.head(3)"
   ]
  },
  {
   "cell_type": "code",
   "execution_count": 113,
   "metadata": {},
   "outputs": [],
   "source": [
    "new_column_order = [col for col in data.columns if col != 'class'] + ['class']"
   ]
  },
  {
   "cell_type": "code",
   "execution_count": 115,
   "metadata": {},
   "outputs": [],
   "source": [
    "data = data[new_column_order]"
   ]
  },
  {
   "cell_type": "code",
   "execution_count": null,
   "metadata": {},
   "outputs": [],
   "source": [
    "data"
   ]
  },
  {
   "cell_type": "code",
   "execution_count": 117,
   "metadata": {},
   "outputs": [],
   "source": [
    "data.to_csv('output.csv', index=False)"
   ]
  },
  {
   "cell_type": "code",
   "execution_count": null,
   "metadata": {},
   "outputs": [],
   "source": [
    "# to_remove = ['time_to_purchase','amount_purchase_per_ip', 'class']\n",
    "\n",
    "# x = data[[c for c in data.columns if c not in to_remove]] \n",
    "# y = data['class']\n",
    "\n",
    "# x_b = x.copy()\n",
    "# y_b = y.copy()\n",
    "\n",
    "# x.columns"
   ]
  },
  {
   "cell_type": "code",
   "execution_count": null,
   "metadata": {},
   "outputs": [],
   "source": [
    "# x.nunique()"
   ]
  },
  {
   "cell_type": "code",
   "execution_count": null,
   "metadata": {},
   "outputs": [],
   "source": [
    "# x.dtypes"
   ]
  },
  {
   "cell_type": "code",
   "execution_count": null,
   "metadata": {},
   "outputs": [],
   "source": [
    "# x.info()"
   ]
  },
  {
   "cell_type": "code",
   "execution_count": null,
   "metadata": {},
   "outputs": [],
   "source": [
    "# x.min()"
   ]
  },
  {
   "cell_type": "code",
   "execution_count": null,
   "metadata": {},
   "outputs": [],
   "source": [
    "# x.max()"
   ]
  },
  {
   "cell_type": "code",
   "execution_count": 102,
   "metadata": {},
   "outputs": [],
   "source": [
    "# raw_data = x\n",
    "# x = raw_data"
   ]
  },
  {
   "cell_type": "code",
   "execution_count": null,
   "metadata": {},
   "outputs": [],
   "source": [
    "# x.info()"
   ]
  },
  {
   "cell_type": "code",
   "execution_count": 104,
   "metadata": {},
   "outputs": [],
   "source": [
    "#cat_column = [c for c in data.columns.values if data[c].dtype == 'object']\n",
    "# cat_column_index = [x.columns.get_loc(c) for c in x.columns if x[c].dtype == 'object']  #selecting indexes of the categorical variables\n",
    "# num_column_index = [x.columns.get_loc(c) for c in x.columns if x[c].dtype != 'object'] #selecting indexes of the numerical variables"
   ]
  },
  {
   "cell_type": "code",
   "execution_count": 105,
   "metadata": {},
   "outputs": [],
   "source": [
    "# len(cat_column_index) + len (num_column_index)"
   ]
  },
  {
   "cell_type": "code",
   "execution_count": 209,
   "metadata": {},
   "outputs": [
    {
     "data": {
      "text/html": [
       "<div>\n",
       "<style scoped>\n",
       "    .dataframe tbody tr th:only-of-type {\n",
       "        vertical-align: middle;\n",
       "    }\n",
       "\n",
       "    .dataframe tbody tr th {\n",
       "        vertical-align: top;\n",
       "    }\n",
       "\n",
       "    .dataframe thead th {\n",
       "        text-align: right;\n",
       "    }\n",
       "</style>\n",
       "<table border=\"1\" class=\"dataframe\">\n",
       "  <thead>\n",
       "    <tr style=\"text-align: right;\">\n",
       "      <th></th>\n",
       "      <th>source</th>\n",
       "      <th>browser</th>\n",
       "      <th>sex</th>\n",
       "      <th>age</th>\n",
       "      <th>country_name</th>\n",
       "      <th>n_device_occur</th>\n",
       "      <th>signup_month</th>\n",
       "      <th>signup_day</th>\n",
       "      <th>signup_day_name</th>\n",
       "      <th>purchase_month</th>\n",
       "      <th>purchase_day</th>\n",
       "      <th>purchase_day_name</th>\n",
       "      <th>purchase_over_time</th>\n",
       "      <th>class</th>\n",
       "    </tr>\n",
       "  </thead>\n",
       "  <tbody>\n",
       "    <tr>\n",
       "      <th>0</th>\n",
       "      <td>SEO</td>\n",
       "      <td>Chrome</td>\n",
       "      <td>M</td>\n",
       "      <td>39</td>\n",
       "      <td>Japan</td>\n",
       "      <td>1</td>\n",
       "      <td>2</td>\n",
       "      <td>24</td>\n",
       "      <td>Tuesday</td>\n",
       "      <td>4</td>\n",
       "      <td>18</td>\n",
       "      <td>Saturday</td>\n",
       "      <td>8500.0</td>\n",
       "      <td>0</td>\n",
       "    </tr>\n",
       "    <tr>\n",
       "      <th>1</th>\n",
       "      <td>Ads</td>\n",
       "      <td>Chrome</td>\n",
       "      <td>F</td>\n",
       "      <td>53</td>\n",
       "      <td>United States</td>\n",
       "      <td>1</td>\n",
       "      <td>6</td>\n",
       "      <td>7</td>\n",
       "      <td>Sunday</td>\n",
       "      <td>6</td>\n",
       "      <td>8</td>\n",
       "      <td>Monday</td>\n",
       "      <td>inf</td>\n",
       "      <td>0</td>\n",
       "    </tr>\n",
       "    <tr>\n",
       "      <th>2</th>\n",
       "      <td>SEO</td>\n",
       "      <td>Opera</td>\n",
       "      <td>M</td>\n",
       "      <td>53</td>\n",
       "      <td>United States</td>\n",
       "      <td>12</td>\n",
       "      <td>1</td>\n",
       "      <td>1</td>\n",
       "      <td>Thursday</td>\n",
       "      <td>1</td>\n",
       "      <td>1</td>\n",
       "      <td>Thursday</td>\n",
       "      <td>inf</td>\n",
       "      <td>1</td>\n",
       "    </tr>\n",
       "  </tbody>\n",
       "</table>\n",
       "</div>"
      ],
      "text/plain": [
       "  source browser sex  ...  purchase_day_name purchase_over_time  class\n",
       "0    SEO  Chrome   M  ...           Saturday             8500.0      0\n",
       "1    Ads  Chrome   F  ...             Monday                inf      0\n",
       "2    SEO   Opera   M  ...           Thursday                inf      1\n",
       "\n",
       "[3 rows x 14 columns]"
      ]
     },
     "execution_count": 209,
     "metadata": {},
     "output_type": "execute_result"
    }
   ],
   "source": [
    "data = pd.read_csv('./output.csv')\n",
    "data.head(3)"
   ]
  },
  {
   "cell_type": "code",
   "execution_count": 210,
   "metadata": {},
   "outputs": [
    {
     "name": "stdout",
     "output_type": "stream",
     "text": [
      "<class 'pandas.core.frame.DataFrame'>\n",
      "RangeIndex: 151112 entries, 0 to 151111\n",
      "Data columns (total 14 columns):\n",
      " #   Column              Non-Null Count   Dtype  \n",
      "---  ------              --------------   -----  \n",
      " 0   source              151112 non-null  object \n",
      " 1   browser             151112 non-null  object \n",
      " 2   sex                 151112 non-null  object \n",
      " 3   age                 151112 non-null  int64  \n",
      " 4   country_name        151112 non-null  object \n",
      " 5   n_device_occur      151112 non-null  int64  \n",
      " 6   signup_month        151112 non-null  int64  \n",
      " 7   signup_day          151112 non-null  int64  \n",
      " 8   signup_day_name     151112 non-null  object \n",
      " 9   purchase_month      151112 non-null  int64  \n",
      " 10  purchase_day        151112 non-null  int64  \n",
      " 11  purchase_day_name   151112 non-null  object \n",
      " 12  purchase_over_time  151112 non-null  float64\n",
      " 13  class               151112 non-null  int64  \n",
      "dtypes: float64(1), int64(7), object(6)\n",
      "memory usage: 16.1+ MB\n"
     ]
    }
   ],
   "source": [
    "data.info()"
   ]
  },
  {
   "cell_type": "code",
   "execution_count": 211,
   "metadata": {},
   "outputs": [],
   "source": [
    "data['sex'] = data['sex'].astype(object)"
   ]
  },
  {
   "cell_type": "code",
   "execution_count": 212,
   "metadata": {},
   "outputs": [
    {
     "name": "stdout",
     "output_type": "stream",
     "text": [
      "<class 'pandas.core.frame.DataFrame'>\n",
      "RangeIndex: 151112 entries, 0 to 151111\n",
      "Data columns (total 14 columns):\n",
      " #   Column              Non-Null Count   Dtype  \n",
      "---  ------              --------------   -----  \n",
      " 0   source              151112 non-null  object \n",
      " 1   browser             151112 non-null  object \n",
      " 2   sex                 151112 non-null  object \n",
      " 3   age                 151112 non-null  int64  \n",
      " 4   country_name        151112 non-null  object \n",
      " 5   n_device_occur      151112 non-null  int64  \n",
      " 6   signup_month        151112 non-null  int64  \n",
      " 7   signup_day          151112 non-null  int64  \n",
      " 8   signup_day_name     151112 non-null  object \n",
      " 9   purchase_month      151112 non-null  int64  \n",
      " 10  purchase_day        151112 non-null  int64  \n",
      " 11  purchase_day_name   151112 non-null  object \n",
      " 12  purchase_over_time  151112 non-null  float64\n",
      " 13  class               151112 non-null  int64  \n",
      "dtypes: float64(1), int64(7), object(6)\n",
      "memory usage: 16.1+ MB\n"
     ]
    }
   ],
   "source": [
    "data.info()"
   ]
  },
  {
   "cell_type": "code",
   "execution_count": 213,
   "metadata": {},
   "outputs": [],
   "source": [
    "# Replace infinite values with NaN\n",
    "data.replace([np.inf, -np.inf], np.nan, inplace=True)"
   ]
  },
  {
   "cell_type": "code",
   "execution_count": 214,
   "metadata": {},
   "outputs": [],
   "source": [
    "# Optionally, drop rows with NaN values (or you could fill them with a strategy)\n",
    "data.dropna(inplace=True)"
   ]
  },
  {
   "cell_type": "code",
   "execution_count": 216,
   "metadata": {},
   "outputs": [
    {
     "data": {
      "text/html": [
       "<div>\n",
       "<style scoped>\n",
       "    .dataframe tbody tr th:only-of-type {\n",
       "        vertical-align: middle;\n",
       "    }\n",
       "\n",
       "    .dataframe tbody tr th {\n",
       "        vertical-align: top;\n",
       "    }\n",
       "\n",
       "    .dataframe thead th {\n",
       "        text-align: right;\n",
       "    }\n",
       "</style>\n",
       "<table border=\"1\" class=\"dataframe\">\n",
       "  <thead>\n",
       "    <tr style=\"text-align: right;\">\n",
       "      <th></th>\n",
       "      <th>source</th>\n",
       "      <th>browser</th>\n",
       "      <th>sex</th>\n",
       "      <th>age</th>\n",
       "      <th>country_name</th>\n",
       "      <th>n_device_occur</th>\n",
       "      <th>signup_month</th>\n",
       "      <th>signup_day</th>\n",
       "      <th>signup_day_name</th>\n",
       "      <th>purchase_month</th>\n",
       "      <th>purchase_day</th>\n",
       "      <th>purchase_day_name</th>\n",
       "      <th>purchase_over_time</th>\n",
       "      <th>class</th>\n",
       "    </tr>\n",
       "  </thead>\n",
       "  <tbody>\n",
       "    <tr>\n",
       "      <th>0</th>\n",
       "      <td>SEO</td>\n",
       "      <td>Chrome</td>\n",
       "      <td>M</td>\n",
       "      <td>39</td>\n",
       "      <td>Japan</td>\n",
       "      <td>1</td>\n",
       "      <td>2</td>\n",
       "      <td>24</td>\n",
       "      <td>Tuesday</td>\n",
       "      <td>4</td>\n",
       "      <td>18</td>\n",
       "      <td>Saturday</td>\n",
       "      <td>8500.000000</td>\n",
       "      <td>0</td>\n",
       "    </tr>\n",
       "    <tr>\n",
       "      <th>4</th>\n",
       "      <td>Ads</td>\n",
       "      <td>Safari</td>\n",
       "      <td>M</td>\n",
       "      <td>45</td>\n",
       "      <td>United States</td>\n",
       "      <td>1</td>\n",
       "      <td>7</td>\n",
       "      <td>21</td>\n",
       "      <td>Tuesday</td>\n",
       "      <td>9</td>\n",
       "      <td>9</td>\n",
       "      <td>Wednesday</td>\n",
       "      <td>9750.000000</td>\n",
       "      <td>0</td>\n",
       "    </tr>\n",
       "    <tr>\n",
       "      <th>5</th>\n",
       "      <td>Ads</td>\n",
       "      <td>Chrome</td>\n",
       "      <td>M</td>\n",
       "      <td>18</td>\n",
       "      <td>Canada</td>\n",
       "      <td>1</td>\n",
       "      <td>5</td>\n",
       "      <td>21</td>\n",
       "      <td>Thursday</td>\n",
       "      <td>7</td>\n",
       "      <td>9</td>\n",
       "      <td>Thursday</td>\n",
       "      <td>10500.000000</td>\n",
       "      <td>0</td>\n",
       "    </tr>\n",
       "    <tr>\n",
       "      <th>6</th>\n",
       "      <td>Ads</td>\n",
       "      <td>Chrome</td>\n",
       "      <td>F</td>\n",
       "      <td>19</td>\n",
       "      <td>Unknown Country</td>\n",
       "      <td>1</td>\n",
       "      <td>8</td>\n",
       "      <td>1</td>\n",
       "      <td>Saturday</td>\n",
       "      <td>8</td>\n",
       "      <td>27</td>\n",
       "      <td>Thursday</td>\n",
       "      <td>5500.000000</td>\n",
       "      <td>0</td>\n",
       "    </tr>\n",
       "    <tr>\n",
       "      <th>7</th>\n",
       "      <td>Ads</td>\n",
       "      <td>Opera</td>\n",
       "      <td>M</td>\n",
       "      <td>34</td>\n",
       "      <td>United States</td>\n",
       "      <td>1</td>\n",
       "      <td>4</td>\n",
       "      <td>6</td>\n",
       "      <td>Monday</td>\n",
       "      <td>5</td>\n",
       "      <td>25</td>\n",
       "      <td>Monday</td>\n",
       "      <td>6750.000000</td>\n",
       "      <td>0</td>\n",
       "    </tr>\n",
       "    <tr>\n",
       "      <th>...</th>\n",
       "      <td>...</td>\n",
       "      <td>...</td>\n",
       "      <td>...</td>\n",
       "      <td>...</td>\n",
       "      <td>...</td>\n",
       "      <td>...</td>\n",
       "      <td>...</td>\n",
       "      <td>...</td>\n",
       "      <td>...</td>\n",
       "      <td>...</td>\n",
       "      <td>...</td>\n",
       "      <td>...</td>\n",
       "      <td>...</td>\n",
       "      <td>...</td>\n",
       "    </tr>\n",
       "    <tr>\n",
       "      <th>151107</th>\n",
       "      <td>SEO</td>\n",
       "      <td>Chrome</td>\n",
       "      <td>M</td>\n",
       "      <td>28</td>\n",
       "      <td>United States</td>\n",
       "      <td>2</td>\n",
       "      <td>1</td>\n",
       "      <td>27</td>\n",
       "      <td>Tuesday</td>\n",
       "      <td>3</td>\n",
       "      <td>29</td>\n",
       "      <td>Sunday</td>\n",
       "      <td>8600.000000</td>\n",
       "      <td>1</td>\n",
       "    </tr>\n",
       "    <tr>\n",
       "      <th>151108</th>\n",
       "      <td>SEO</td>\n",
       "      <td>Safari</td>\n",
       "      <td>M</td>\n",
       "      <td>32</td>\n",
       "      <td>Netherlands</td>\n",
       "      <td>1</td>\n",
       "      <td>5</td>\n",
       "      <td>15</td>\n",
       "      <td>Friday</td>\n",
       "      <td>5</td>\n",
       "      <td>26</td>\n",
       "      <td>Tuesday</td>\n",
       "      <td>35000.000000</td>\n",
       "      <td>0</td>\n",
       "    </tr>\n",
       "    <tr>\n",
       "      <th>151109</th>\n",
       "      <td>SEO</td>\n",
       "      <td>IE</td>\n",
       "      <td>F</td>\n",
       "      <td>26</td>\n",
       "      <td>Japan</td>\n",
       "      <td>1</td>\n",
       "      <td>3</td>\n",
       "      <td>3</td>\n",
       "      <td>Tuesday</td>\n",
       "      <td>5</td>\n",
       "      <td>20</td>\n",
       "      <td>Wednesday</td>\n",
       "      <td>6666.666667</td>\n",
       "      <td>0</td>\n",
       "    </tr>\n",
       "    <tr>\n",
       "      <th>151110</th>\n",
       "      <td>SEO</td>\n",
       "      <td>Chrome</td>\n",
       "      <td>M</td>\n",
       "      <td>37</td>\n",
       "      <td>United States</td>\n",
       "      <td>2</td>\n",
       "      <td>7</td>\n",
       "      <td>9</td>\n",
       "      <td>Thursday</td>\n",
       "      <td>9</td>\n",
       "      <td>7</td>\n",
       "      <td>Monday</td>\n",
       "      <td>9200.000000</td>\n",
       "      <td>0</td>\n",
       "    </tr>\n",
       "    <tr>\n",
       "      <th>151111</th>\n",
       "      <td>Direct</td>\n",
       "      <td>IE</td>\n",
       "      <td>M</td>\n",
       "      <td>38</td>\n",
       "      <td>Unknown Country</td>\n",
       "      <td>1</td>\n",
       "      <td>6</td>\n",
       "      <td>10</td>\n",
       "      <td>Wednesday</td>\n",
       "      <td>7</td>\n",
       "      <td>21</td>\n",
       "      <td>Tuesday</td>\n",
       "      <td>6666.666667</td>\n",
       "      <td>0</td>\n",
       "    </tr>\n",
       "  </tbody>\n",
       "</table>\n",
       "<p>136000 rows × 14 columns</p>\n",
       "</div>"
      ],
      "text/plain": [
       "        source browser sex  ...  purchase_day_name purchase_over_time  class\n",
       "0          SEO  Chrome   M  ...           Saturday        8500.000000      0\n",
       "4          Ads  Safari   M  ...          Wednesday        9750.000000      0\n",
       "5          Ads  Chrome   M  ...           Thursday       10500.000000      0\n",
       "6          Ads  Chrome   F  ...           Thursday        5500.000000      0\n",
       "7          Ads   Opera   M  ...             Monday        6750.000000      0\n",
       "...        ...     ...  ..  ...                ...                ...    ...\n",
       "151107     SEO  Chrome   M  ...             Sunday        8600.000000      1\n",
       "151108     SEO  Safari   M  ...            Tuesday       35000.000000      0\n",
       "151109     SEO      IE   F  ...          Wednesday        6666.666667      0\n",
       "151110     SEO  Chrome   M  ...             Monday        9200.000000      0\n",
       "151111  Direct      IE   M  ...            Tuesday        6666.666667      0\n",
       "\n",
       "[136000 rows x 14 columns]"
      ]
     },
     "execution_count": 216,
     "metadata": {},
     "output_type": "execute_result"
    }
   ],
   "source": [
    "data"
   ]
  },
  {
   "cell_type": "code",
   "execution_count": 217,
   "metadata": {},
   "outputs": [],
   "source": [
    "# x = x.values\n",
    "# y = np.array(y)\n",
    "\n",
    "x = data.drop(columns=['class'])  # Features\n",
    "y = data['class']                 # Target variable\n",
    "\n",
    "x_train, x_test, y_train, y_test = train_test_split(x, y, test_size=0.20, random_state= 59, stratify = y)"
   ]
  },
  {
   "cell_type": "code",
   "execution_count": 218,
   "metadata": {},
   "outputs": [
    {
     "data": {
      "text/plain": [
       "0         0\n",
       "4         0\n",
       "5         0\n",
       "6         0\n",
       "7         0\n",
       "         ..\n",
       "151107    1\n",
       "151108    0\n",
       "151109    0\n",
       "151110    0\n",
       "151111    0\n",
       "Name: class, Length: 136000, dtype: int64"
      ]
     },
     "execution_count": 218,
     "metadata": {},
     "output_type": "execute_result"
    }
   ],
   "source": [
    "y"
   ]
  },
  {
   "cell_type": "code",
   "execution_count": 219,
   "metadata": {},
   "outputs": [
    {
     "data": {
      "text/html": [
       "<div>\n",
       "<style scoped>\n",
       "    .dataframe tbody tr th:only-of-type {\n",
       "        vertical-align: middle;\n",
       "    }\n",
       "\n",
       "    .dataframe tbody tr th {\n",
       "        vertical-align: top;\n",
       "    }\n",
       "\n",
       "    .dataframe thead th {\n",
       "        text-align: right;\n",
       "    }\n",
       "</style>\n",
       "<table border=\"1\" class=\"dataframe\">\n",
       "  <thead>\n",
       "    <tr style=\"text-align: right;\">\n",
       "      <th></th>\n",
       "      <th>source</th>\n",
       "      <th>browser</th>\n",
       "      <th>sex</th>\n",
       "      <th>age</th>\n",
       "      <th>country_name</th>\n",
       "      <th>n_device_occur</th>\n",
       "      <th>signup_month</th>\n",
       "      <th>signup_day</th>\n",
       "      <th>signup_day_name</th>\n",
       "      <th>purchase_month</th>\n",
       "      <th>purchase_day</th>\n",
       "      <th>purchase_day_name</th>\n",
       "      <th>purchase_over_time</th>\n",
       "    </tr>\n",
       "  </thead>\n",
       "  <tbody>\n",
       "    <tr>\n",
       "      <th>0</th>\n",
       "      <td>SEO</td>\n",
       "      <td>Chrome</td>\n",
       "      <td>M</td>\n",
       "      <td>39</td>\n",
       "      <td>Japan</td>\n",
       "      <td>1</td>\n",
       "      <td>2</td>\n",
       "      <td>24</td>\n",
       "      <td>Tuesday</td>\n",
       "      <td>4</td>\n",
       "      <td>18</td>\n",
       "      <td>Saturday</td>\n",
       "      <td>8500.000000</td>\n",
       "    </tr>\n",
       "    <tr>\n",
       "      <th>4</th>\n",
       "      <td>Ads</td>\n",
       "      <td>Safari</td>\n",
       "      <td>M</td>\n",
       "      <td>45</td>\n",
       "      <td>United States</td>\n",
       "      <td>1</td>\n",
       "      <td>7</td>\n",
       "      <td>21</td>\n",
       "      <td>Tuesday</td>\n",
       "      <td>9</td>\n",
       "      <td>9</td>\n",
       "      <td>Wednesday</td>\n",
       "      <td>9750.000000</td>\n",
       "    </tr>\n",
       "    <tr>\n",
       "      <th>5</th>\n",
       "      <td>Ads</td>\n",
       "      <td>Chrome</td>\n",
       "      <td>M</td>\n",
       "      <td>18</td>\n",
       "      <td>Canada</td>\n",
       "      <td>1</td>\n",
       "      <td>5</td>\n",
       "      <td>21</td>\n",
       "      <td>Thursday</td>\n",
       "      <td>7</td>\n",
       "      <td>9</td>\n",
       "      <td>Thursday</td>\n",
       "      <td>10500.000000</td>\n",
       "    </tr>\n",
       "    <tr>\n",
       "      <th>6</th>\n",
       "      <td>Ads</td>\n",
       "      <td>Chrome</td>\n",
       "      <td>F</td>\n",
       "      <td>19</td>\n",
       "      <td>Unknown Country</td>\n",
       "      <td>1</td>\n",
       "      <td>8</td>\n",
       "      <td>1</td>\n",
       "      <td>Saturday</td>\n",
       "      <td>8</td>\n",
       "      <td>27</td>\n",
       "      <td>Thursday</td>\n",
       "      <td>5500.000000</td>\n",
       "    </tr>\n",
       "    <tr>\n",
       "      <th>7</th>\n",
       "      <td>Ads</td>\n",
       "      <td>Opera</td>\n",
       "      <td>M</td>\n",
       "      <td>34</td>\n",
       "      <td>United States</td>\n",
       "      <td>1</td>\n",
       "      <td>4</td>\n",
       "      <td>6</td>\n",
       "      <td>Monday</td>\n",
       "      <td>5</td>\n",
       "      <td>25</td>\n",
       "      <td>Monday</td>\n",
       "      <td>6750.000000</td>\n",
       "    </tr>\n",
       "    <tr>\n",
       "      <th>...</th>\n",
       "      <td>...</td>\n",
       "      <td>...</td>\n",
       "      <td>...</td>\n",
       "      <td>...</td>\n",
       "      <td>...</td>\n",
       "      <td>...</td>\n",
       "      <td>...</td>\n",
       "      <td>...</td>\n",
       "      <td>...</td>\n",
       "      <td>...</td>\n",
       "      <td>...</td>\n",
       "      <td>...</td>\n",
       "      <td>...</td>\n",
       "    </tr>\n",
       "    <tr>\n",
       "      <th>151107</th>\n",
       "      <td>SEO</td>\n",
       "      <td>Chrome</td>\n",
       "      <td>M</td>\n",
       "      <td>28</td>\n",
       "      <td>United States</td>\n",
       "      <td>2</td>\n",
       "      <td>1</td>\n",
       "      <td>27</td>\n",
       "      <td>Tuesday</td>\n",
       "      <td>3</td>\n",
       "      <td>29</td>\n",
       "      <td>Sunday</td>\n",
       "      <td>8600.000000</td>\n",
       "    </tr>\n",
       "    <tr>\n",
       "      <th>151108</th>\n",
       "      <td>SEO</td>\n",
       "      <td>Safari</td>\n",
       "      <td>M</td>\n",
       "      <td>32</td>\n",
       "      <td>Netherlands</td>\n",
       "      <td>1</td>\n",
       "      <td>5</td>\n",
       "      <td>15</td>\n",
       "      <td>Friday</td>\n",
       "      <td>5</td>\n",
       "      <td>26</td>\n",
       "      <td>Tuesday</td>\n",
       "      <td>35000.000000</td>\n",
       "    </tr>\n",
       "    <tr>\n",
       "      <th>151109</th>\n",
       "      <td>SEO</td>\n",
       "      <td>IE</td>\n",
       "      <td>F</td>\n",
       "      <td>26</td>\n",
       "      <td>Japan</td>\n",
       "      <td>1</td>\n",
       "      <td>3</td>\n",
       "      <td>3</td>\n",
       "      <td>Tuesday</td>\n",
       "      <td>5</td>\n",
       "      <td>20</td>\n",
       "      <td>Wednesday</td>\n",
       "      <td>6666.666667</td>\n",
       "    </tr>\n",
       "    <tr>\n",
       "      <th>151110</th>\n",
       "      <td>SEO</td>\n",
       "      <td>Chrome</td>\n",
       "      <td>M</td>\n",
       "      <td>37</td>\n",
       "      <td>United States</td>\n",
       "      <td>2</td>\n",
       "      <td>7</td>\n",
       "      <td>9</td>\n",
       "      <td>Thursday</td>\n",
       "      <td>9</td>\n",
       "      <td>7</td>\n",
       "      <td>Monday</td>\n",
       "      <td>9200.000000</td>\n",
       "    </tr>\n",
       "    <tr>\n",
       "      <th>151111</th>\n",
       "      <td>Direct</td>\n",
       "      <td>IE</td>\n",
       "      <td>M</td>\n",
       "      <td>38</td>\n",
       "      <td>Unknown Country</td>\n",
       "      <td>1</td>\n",
       "      <td>6</td>\n",
       "      <td>10</td>\n",
       "      <td>Wednesday</td>\n",
       "      <td>7</td>\n",
       "      <td>21</td>\n",
       "      <td>Tuesday</td>\n",
       "      <td>6666.666667</td>\n",
       "    </tr>\n",
       "  </tbody>\n",
       "</table>\n",
       "<p>136000 rows × 13 columns</p>\n",
       "</div>"
      ],
      "text/plain": [
       "        source browser sex  ...  purchase_day purchase_day_name  purchase_over_time\n",
       "0          SEO  Chrome   M  ...            18          Saturday         8500.000000\n",
       "4          Ads  Safari   M  ...             9         Wednesday         9750.000000\n",
       "5          Ads  Chrome   M  ...             9          Thursday        10500.000000\n",
       "6          Ads  Chrome   F  ...            27          Thursday         5500.000000\n",
       "7          Ads   Opera   M  ...            25            Monday         6750.000000\n",
       "...        ...     ...  ..  ...           ...               ...                 ...\n",
       "151107     SEO  Chrome   M  ...            29            Sunday         8600.000000\n",
       "151108     SEO  Safari   M  ...            26           Tuesday        35000.000000\n",
       "151109     SEO      IE   F  ...            20         Wednesday         6666.666667\n",
       "151110     SEO  Chrome   M  ...             7            Monday         9200.000000\n",
       "151111  Direct      IE   M  ...            21           Tuesday         6666.666667\n",
       "\n",
       "[136000 rows x 13 columns]"
      ]
     },
     "execution_count": 219,
     "metadata": {},
     "output_type": "execute_result"
    }
   ],
   "source": [
    "x"
   ]
  },
  {
   "cell_type": "code",
   "execution_count": 220,
   "metadata": {},
   "outputs": [
    {
     "name": "stdout",
     "output_type": "stream",
     "text": [
      "<class 'pandas.core.frame.DataFrame'>\n",
      "Index: 136000 entries, 0 to 151111\n",
      "Data columns (total 13 columns):\n",
      " #   Column              Non-Null Count   Dtype  \n",
      "---  ------              --------------   -----  \n",
      " 0   source              136000 non-null  object \n",
      " 1   browser             136000 non-null  object \n",
      " 2   sex                 136000 non-null  object \n",
      " 3   age                 136000 non-null  int64  \n",
      " 4   country_name        136000 non-null  object \n",
      " 5   n_device_occur      136000 non-null  int64  \n",
      " 6   signup_month        136000 non-null  int64  \n",
      " 7   signup_day          136000 non-null  int64  \n",
      " 8   signup_day_name     136000 non-null  object \n",
      " 9   purchase_month      136000 non-null  int64  \n",
      " 10  purchase_day        136000 non-null  int64  \n",
      " 11  purchase_day_name   136000 non-null  object \n",
      " 12  purchase_over_time  136000 non-null  float64\n",
      "dtypes: float64(1), int64(6), object(6)\n",
      "memory usage: 14.5+ MB\n"
     ]
    }
   ],
   "source": [
    "x.info()"
   ]
  },
  {
   "cell_type": "code",
   "execution_count": 221,
   "metadata": {},
   "outputs": [
    {
     "name": "stderr",
     "output_type": "stream",
     "text": [
      "c:\\Program Files\\Python312\\Lib\\site-packages\\sklearn\\linear_model\\_logistic.py:469: ConvergenceWarning: lbfgs failed to converge (status=1):\n",
      "STOP: TOTAL NO. of ITERATIONS REACHED LIMIT.\n",
      "\n",
      "Increase the number of iterations (max_iter) or scale the data as shown in:\n",
      "    https://scikit-learn.org/stable/modules/preprocessing.html\n",
      "Please also refer to the documentation for alternative solver options:\n",
      "    https://scikit-learn.org/stable/modules/linear_model.html#logistic-regression\n",
      "  n_iter_i = _check_optimize_result(\n",
      "c:\\Program Files\\Python312\\Lib\\site-packages\\sklearn\\preprocessing\\_encoders.py:242: UserWarning: Found unknown categories in columns [3] during transform. These unknown categories will be encoded as all zeros\n",
      "  warnings.warn(\n"
     ]
    },
    {
     "name": "stdout",
     "output_type": "stream",
     "text": [
      "R2 score: -0.04957295082147595\n",
      "MAE: 0.04577205882352941\n"
     ]
    }
   ],
   "source": [
    "# Specify the indices of categorical columns (adjust these based on your dataset)\n",
    "categorical_indices = [0, 1, 2, 4, 8, 11]  # Replace with actual indices\n",
    "\n",
    "# Define the transformer to handle categorical columns\n",
    "step1 = ColumnTransformer(\n",
    "    transformers=[\n",
    "        ('col_tnf', OneHotEncoder(sparse_output=False, drop='first', handle_unknown='ignore'), categorical_indices)\n",
    "    ],\n",
    "    remainder='passthrough'\n",
    ")\n",
    "\n",
    "# Define your model\n",
    "step2 = LogisticRegression()\n",
    "\n",
    "# Create the pipeline\n",
    "pipe = Pipeline([\n",
    "    ('step1', step1),\n",
    "    ('step2', step2)\n",
    "])\n",
    "\n",
    "# Fit the pipeline on the training data\n",
    "pipe.fit(x_train, y_train)\n",
    "\n",
    "# Predict on the test set\n",
    "y_pred = pipe.predict(x_test)\n",
    "\n",
    "# Evaluate the model\n",
    "print('R2 score:', r2_score(y_test, y_pred))\n",
    "print('MAE:', mean_absolute_error(y_test, y_pred))\n"
   ]
  },
  {
   "cell_type": "code",
   "execution_count": 198,
   "metadata": {},
   "outputs": [],
   "source": [
    "# from sklearn.pipeline import Pipeline\n",
    "# from sklearn.compose import ColumnTransformer\n",
    "# from sklearn.preprocessing import StandardScaler, OneHotEncoder\n",
    "# from sklearn.impute import SimpleImputer\n",
    "# import pandas as pd\n",
    "# import numpy as np\n",
    "\n",
    "# # Sample data (Replace x_train and x_test with your actual data)\n",
    "# x_train = pd.DataFrame(x_train)  # Ensure x_train is a DataFrame\n",
    "# x_test = pd.DataFrame(x_test)     # Ensure x_test is a DataFrame\n",
    "\n",
    "# # Replace infinite values with NaN\n",
    "# x_train.replace([np.inf, -np.inf], np.nan, inplace=True)\n",
    "# x_test.replace([np.inf, -np.inf], np.nan, inplace=True)\n",
    "\n",
    "# # Fill NaN values with 0 or other strategy if necessary\n",
    "# x_train.fillna(0, inplace=True)\n",
    "# x_test.fillna(0, inplace=True)\n",
    "\n",
    "# # Define numerical and categorical feature indices\n",
    "# numerical_features = num_column_index  # Replace with your numerical column indices or names\n",
    "# categorical_features = cat_column_index  # Replace with your categorical column indices or names\n",
    "\n",
    "# # Pipeline for numerical features (e.g., scaling)\n",
    "# numerical_transformer = Pipeline(steps=[\n",
    "#     ('scaler', StandardScaler())\n",
    "# ])\n",
    "\n",
    "# # Pipeline for categorical features (e.g., imputing, encoding)\n",
    "# categorical_transformer = Pipeline(steps=[\n",
    "#     ('imputer', SimpleImputer(strategy='most_frequent')),  # Impute missing values\n",
    "#     ('encoder', OneHotEncoder(drop='first', handle_unknown='ignore'))  # One-hot encode, drop first to avoid collinearity\n",
    "# ])\n",
    "\n",
    "# # Combine numerical and categorical transformers\n",
    "# preprocessor = ColumnTransformer(\n",
    "#     transformers=[\n",
    "#         ('num', numerical_transformer, numerical_features),\n",
    "#         ('cat', categorical_transformer, categorical_features)\n",
    "#     ]\n",
    "# )\n",
    "\n",
    "# # Fit and transform the data for training\n",
    "# x_train = preprocessor.fit_transform(x_train)\n",
    "# x_test = preprocessor.transform(x_test)\n",
    "\n",
    "# print('Ready to train model')\n"
   ]
  },
  {
   "cell_type": "code",
   "execution_count": 199,
   "metadata": {},
   "outputs": [],
   "source": [
    "# from sklearn.pipeline import Pipeline\n",
    "# from sklearn.compose import ColumnTransformer\n",
    "# from sklearn.preprocessing import StandardScaler, OneHotEncoder\n",
    "# from sklearn.impute import SimpleImputer\n",
    "# import pandas as pd\n",
    "# import numpy as np\n",
    "\n",
    "# # Convert input data to DataFrame if not already\n",
    "# x_train = pd.DataFrame(x_train)  # Ensure x_train is a DataFrame\n",
    "# x_test = pd.DataFrame(x_test)     # Ensure x_test is a DataFrame\n",
    "\n",
    "# # Replace infinite values with NaN\n",
    "# x_train.replace([np.inf, -np.inf], np.nan, inplace=True)\n",
    "# x_test.replace([np.inf, -np.inf], np.nan, inplace=True)\n",
    "\n",
    "# # Fill NaN values with 0 or other strategy if necessary\n",
    "# x_train.fillna(0, inplace=True)\n",
    "# x_test.fillna(0, inplace=True)\n",
    "\n",
    "# # Confirm column names or indices for numerical and categorical features\n",
    "# numerical_features = num_column_index  # Replace with actual column indices or names for numerical features\n",
    "# categorical_features = cat_column_index  # Replace with actual column indices or names for categorical features\n",
    "\n",
    "# # Create transformers for each feature type\n",
    "# numerical_transformer = Pipeline(steps=[\n",
    "#     ('scaler', StandardScaler())\n",
    "# ])\n",
    "\n",
    "# categorical_transformer = Pipeline(steps=[\n",
    "#     ('imputer', SimpleImputer(strategy='most_frequent')),  # Fill missing categorical values\n",
    "#     ('encoder', OneHotEncoder(drop='first', handle_unknown='ignore'))  # One-hot encode and handle unknowns\n",
    "# ])\n",
    "\n",
    "# # Combine transformations\n",
    "# preprocessor = ColumnTransformer(\n",
    "#     transformers=[\n",
    "#         ('num', numerical_transformer, numerical_features),\n",
    "#         ('cat', categorical_transformer, categorical_features)\n",
    "#     ]\n",
    "# )\n",
    "\n",
    "# # Apply transformations to training and test data\n",
    "# try:\n",
    "#     x_train = preprocessor.fit_transform(x_train)\n",
    "#     x_test = preprocessor.transform(x_test)\n",
    "#     print('Transformation successful, ready to train model.')\n",
    "# except ValueError as e:\n",
    "#     print(\"Error during transformation:\", e)\n",
    "#     print(\"Please check that the column indices or names are correctly specified.\")\n"
   ]
  },
  {
   "cell_type": "code",
   "execution_count": 200,
   "metadata": {},
   "outputs": [],
   "source": [
    "# # Replace infinite values with NaN in DataFrames\n",
    "# x_train = pd.DataFrame(x_train)  # Ensure it's a DataFrame\n",
    "# x_test = pd.DataFrame(x_test)     # Ensure it's a DataFrame\n",
    "\n",
    "# x_train.replace([np.inf, -np.inf], np.nan, inplace=True)\n",
    "# x_test.replace([np.inf, -np.inf], np.nan, inplace=True)\n",
    "\n",
    "# # Optionally, fill NaN values with a specific value or strategy\n",
    "# x_train.fillna(0, inplace=True)\n",
    "# x_test.fillna(0, inplace=True)\n",
    "\n",
    "# # Create pipeline for numerical features\n",
    "# numerical_features = num_column_index\n",
    "# numerical_transformer = Pipeline(steps=[\n",
    "#     ('scaler', StandardScaler())\n",
    "# ])\n",
    "\n",
    "# # Create pipeline for categorical features\n",
    "# categorical_features = cat_column_index\n",
    "# categorical_transformer = Pipeline(\n",
    "#     steps=[\n",
    "#         ('imputer', SimpleImputer(strategy='most_frequent')),\n",
    "#         ('encoder', OneHotEncoder(drop='first', handle_unknown='ignore'))\n",
    "#     ]\n",
    "# )\n",
    "\n",
    "# # Combine numerical and categorical transformers\n",
    "# preprocessor = ColumnTransformer(\n",
    "#     transformers=[\n",
    "#         ('num', numerical_transformer, numerical_features),\n",
    "#         ('cat', categorical_transformer, categorical_features)\n",
    "#     ]\n",
    "# )\n",
    "\n",
    "# # Fit and transform the data\n",
    "# x_train = preprocessor.fit_transform(x_train)\n",
    "# x_test = preprocessor.transform(x_test)\n",
    "\n",
    "# print('Ready to train model')"
   ]
  },
  {
   "cell_type": "markdown",
   "metadata": {},
   "source": [
    "## Logistic Regression"
   ]
  },
  {
   "cell_type": "code",
   "execution_count": 201,
   "metadata": {},
   "outputs": [],
   "source": [
    "# Train model\n",
    "# model = LogisticRegression()\n",
    "\n",
    "# model.fit(x_train, y_train)\n",
    "# print(\"...Done.\")"
   ]
  },
  {
   "cell_type": "code",
   "execution_count": 222,
   "metadata": {},
   "outputs": [
    {
     "name": "stderr",
     "output_type": "stream",
     "text": [
      "c:\\Program Files\\Python312\\Lib\\site-packages\\sklearn\\preprocessing\\_encoders.py:242: UserWarning: Found unknown categories in columns [3] during transform. These unknown categories will be encoded as all zeros\n",
      "  warnings.warn(\n"
     ]
    }
   ],
   "source": [
    "# Predictions on sets\n",
    "y_train_pred = pipe.predict(x_train)\n",
    "y_test_pred = pipe.predict(x_test)"
   ]
  },
  {
   "cell_type": "code",
   "execution_count": 223,
   "metadata": {},
   "outputs": [
    {
     "name": "stdout",
     "output_type": "stream",
     "text": [
      "Accuracy on training set :  0.9542647058823529\n",
      "Accuracy on test set :  0.9542279411764706\n"
     ]
    }
   ],
   "source": [
    "from sklearn.metrics import accuracy_score\n",
    "# Print scores\n",
    "print(\"Accuracy on training set : \", accuracy_score(y_train, y_train_pred))\n",
    "print(\"Accuracy on test set : \", accuracy_score(y_test, y_test_pred))"
   ]
  },
  {
   "cell_type": "code",
   "execution_count": 224,
   "metadata": {},
   "outputs": [
    {
     "name": "stdout",
     "output_type": "stream",
     "text": [
      "f1 test : 0.0\n",
      "f1 train : 0.0\n"
     ]
    }
   ],
   "source": [
    "print('f1 test :',f1_score(y_test, y_test_pred))\n",
    "print('f1 train :',f1_score(y_train, y_train_pred))"
   ]
  },
  {
   "cell_type": "code",
   "execution_count": 225,
   "metadata": {},
   "outputs": [
    {
     "data": {
      "text/plain": [
       "[]"
      ]
     },
     "execution_count": 225,
     "metadata": {},
     "output_type": "execute_result"
    },
    {
     "data": {
      "image/png": "[encoded data removed]",
      "text/plain": [
       "<Figure size 1200x400 with 4 Axes>"
      ]
     },
     "metadata": {},
     "output_type": "display_data"
    }
   ],
   "source": [
    "# Create confusion Matrix\n",
    "cm_test = metrics.confusion_matrix(y_test, y_test_pred) \n",
    "cm_train = metrics.confusion_matrix(y_train, y_train_pred) \n",
    "\n",
    "fig, (ax1, ax2) = plt.subplots(1,2, figsize=(12,4))\n",
    "sns.heatmap(cm_test, annot=True, ax = ax1, fmt=\".6g\" )\n",
    "sns.heatmap(cm_train, annot=True, ax = ax2, fmt=\".6g\" )\n",
    "\n",
    "ax1.set_title('confusion matrix of the test set')\n",
    "ax2.set_title('confusion matrix of the train set')\n",
    "plt.plot()"
   ]
  },
  {
   "cell_type": "code",
   "execution_count": 227,
   "metadata": {},
   "outputs": [],
   "source": [
    "import pickle\n",
    "\n",
    "pickle.dump(data,open('raw_data.pkl','wb'))\n",
    "pickle.dump(pipe,open('model.pkl','wb'))"
   ]
  },
  {
   "cell_type": "markdown",
   "metadata": {},
   "source": [
    "<pre>\n",
    "#   Column              Non-Null Count   Dtype  \n",
    "---  ------              --------------   -----  \n",
    " 0   source              151112 non-null  object \n",
    " 1   browser             151112 non-null  object \n",
    " 2   sex                 151112 non-null  object \n",
    " 3   age                 151112 non-null  int64  \n",
    " 4   country_name        151112 non-null  object \n",
    " 5   n_device_occur      151112 non-null  int64(1-20)\n",
    " 6   signup_month        151112 non-null  int32(1-12)\n",
    " 7   signup_day          151112 non-null  int32(1-32) \n",
    " 8   signup_day_name     151112 non-null  object \n",
    " 9   purchase_month      151112 non-null  int32(1-12)  \n",
    " 10  purchase_day        151112 non-null  int32(1-31)\n",
    " 11  purchase_day_name   151112 non-null  object \n",
    " 12  purchase_over_time  151112 non-null  float64(1000-)\n",
    "</pre>"
   ]
  },
  {
   "cell_type": "code",
   "execution_count": null,
   "metadata": {},
   "outputs": [],
   "source": [
    "data['browser'].unique()"
   ]
  }
 ],
 "metadata": {
  "kernelspec": {
   "display_name": "Python 3",
   "language": "python",
   "name": "python3"
  },
  "language_info": {
   "codemirror_mode": {
    "name": "ipython",
    "version": 3
   },
   "file_extension": ".py",
   "mimetype": "text/x-python",
   "name": "python",
   "nbconvert_exporter": "python",
   "pygments_lexer": "ipython3",
   "version": "3.12.7"
  }
 },
 "nbformat": 4,
 "nbformat_minor": 2
}
